{
 "cells": [
  {
   "cell_type": "markdown",
   "metadata": {},
   "source": [
    "# Keras Study\n",
    "\n",
    "본 문서는 Keras를 사용하여 Deep Learning을 구현하기 위한 기초적인 실습 자료. \n",
    "\n",
    "The code and comments are written by NamJungGu <nowage@gmail.com> <br>\n",
    "Maintained by  SungKukKim <nackchun@gmail.com<br>\n",
    "\n",
    "<a rel=\"license\" href=\"http://creativecommons.org/licenses/by-nc-sa/4.0/\"><img alt=\"Creative Commons License\" style=\"border-width:0\" src=\"https://i.creativecommons.org/l/by-nc-sa/4.0/88x31.png\" /></a><br />This work is licensed under a <a rel=\"license\" href=\"http://creativecommons.org/licenses/by-nc-sa/4.0/\">Creative Commons Attribution-NonCommercial-ShareAlike 4.0 International License</a>.\n",
    "\n",
    "\n"
   ]
  },
  {
   "cell_type": "markdown",
   "metadata": {},
   "source": [
    "# Example\n",
    "## [00.Background](./00.Background)\n",
    "## [01.CoLab](./01.CoLab)\n",
    "## [02.AnalyticProcess](./02.AnalyticProcess)\n",
    "## [03.KerasIntro](./03.KerasIntro)\n",
    "## [04.MLP](./04.MLP)\n",
    "## [05.CNN](./05.CNN)\n",
    "## [06.RNN](./06.RNN)\n",
    "## [07.AutoEncoder](./07.AutoEncoder)\n",
    "## [08.ReinforcemetLearning](./08.ReinforcemetLearning)\n",
    "## [09.EtcExample](./09.EtcExample)\n",
    "## [10.Project](./10.Project)\n",
    "\n",
    "---\n",
    "\n"
   ]
  },
  {
   "cell_type": "code",
   "execution_count": null,
   "metadata": {},
   "outputs": [],
   "source": []
  }
 ],
 "metadata": {
  "kernelspec": {
   "display_name": "Python 3",
   "language": "python",
   "name": "python3"
  },
  "language_info": {
   "codemirror_mode": {
    "name": "ipython",
    "version": 3
   },
   "file_extension": ".py",
   "mimetype": "text/x-python",
   "name": "python",
   "nbconvert_exporter": "python",
   "pygments_lexer": "ipython3",
   "version": "3.8.9"
  }
 },
 "nbformat": 4,
 "nbformat_minor": 4
}
