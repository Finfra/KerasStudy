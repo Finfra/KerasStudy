{
 "cells": [
  {
   "cell_type": "code",
   "execution_count": null,
   "metadata": {
    "id": "i-Y44p_YBRRJ"
   },
   "outputs": [],
   "source": []
  },
  {
   "cell_type": "markdown",
   "metadata": {
    "id": "ZlIDqOg8HkrC"
   },
   "source": [
    "# Jupyter Widgets"
   ]
  },
  {
   "cell_type": "markdown",
   "metadata": {
    "id": "Pdh12U42Hjzj"
   },
   "source": [
    "## ipywidget\n",
    "간단한 슬라이드바 같은 버튼을 제공하는 GUI 라이브러리\n",
    "- 슬라이드바 예시"
   ]
  },
  {
   "cell_type": "code",
   "execution_count": null,
   "metadata": {
    "colab": {
     "base_uri": "https://localhost:8080/",
     "height": 49,
     "referenced_widgets": [
      "ac762b4ddfd542e7855a9fac62953a73",
      "b867e359e58143b18488e7af1b321e9e",
      "de1f03c4727d4041971ae062605fc4a6"
     ]
    },
    "executionInfo": {
     "elapsed": 533,
     "status": "ok",
     "timestamp": 1628143684116,
     "user": {
      "displayName": "김성국",
      "photoUrl": "",
      "userId": "14454204284131910272"
     },
     "user_tz": -540
    },
    "id": "2D95BDeqHvgi",
    "outputId": "1ddc8d2c-8a8b-44ff-f177-8bb5409b96b2"
   },
   "outputs": [
    {
     "data": {
      "application/vnd.jupyter.widget-view+json": {
       "model_id": "ac762b4ddfd542e7855a9fac62953a73",
       "version_major": 2,
       "version_minor": 0
      },
      "text/plain": [
       "IntSlider(value=20)"
      ]
     },
     "metadata": {
      "tags": []
     },
     "output_type": "display_data"
    }
   ],
   "source": [
    "import ipywidgets as widgets\n",
    "\n",
    "slider = widgets.IntSlider(20, min=0, max=100)\n",
    "slider"
   ]
  },
  {
   "cell_type": "markdown",
   "metadata": {
    "id": "qJq-xNXWIY0Y"
   },
   "source": [
    "- select 를 통한 인터랙티브 예시"
   ]
  },
  {
   "cell_type": "code",
   "execution_count": null,
   "metadata": {
    "colab": {
     "base_uri": "https://localhost:8080/",
     "height": 461,
     "referenced_widgets": [
      "799f3e522a984a3f92e0624f5aab3bb9",
      "7f7c1a7ad60c4fe3809503b21b9436dc",
      "1ce4f077209f48c789e04f37102a1005",
      "0ede9fb009bb43dd8eea5f391fc915a9",
      "9ddae7c9c37d48759e4c403fd5e80622",
      "55bb7c1a18c64157992c5fe23d18daee",
      "a6bf4a553a554dceb5f837f37620a06d"
     ]
    },
    "executionInfo": {
     "elapsed": 388,
     "status": "ok",
     "timestamp": 1628143684491,
     "user": {
      "displayName": "김성국",
      "photoUrl": "",
      "userId": "14454204284131910272"
     },
     "user_tz": -540
    },
    "id": "3lZRH0B9Hvgi",
    "outputId": "68aad394-0dd8-4f77-a1c6-6607e85fd75a"
   },
   "outputs": [
    {
     "data": {
      "application/vnd.jupyter.widget-view+json": {
       "model_id": "799f3e522a984a3f92e0624f5aab3bb9",
       "version_major": 2,
       "version_minor": 0
      },
      "text/plain": [
       "interactive(children=(SelectMultiple(description='Symbols', index=(0, 1, 2, 3, 4), options=('MSFT', 'AMZN', 'I…"
      ]
     },
     "metadata": {
      "tags": []
     },
     "output_type": "display_data"
    }
   ],
   "source": [
    "import altair as alt\n",
    "import ipywidgets as widgets\n",
    "from vega_datasets import data\n",
    "\n",
    "source = data.stocks()\n",
    "\n",
    "stock_picker = widgets.SelectMultiple(\n",
    "    options=source.symbol.unique(),\n",
    "    value=list(source.symbol.unique()),\n",
    "    description='Symbols')\n",
    "\n",
    "# The value of symbols will come from the stock_picker.\n",
    "@widgets.interact(symbols=stock_picker)\n",
    "def render(symbols):\n",
    "  selected = source[source.symbol.isin(list(symbols))]\n",
    "\n",
    "  return alt.Chart(selected).mark_line().encode(\n",
    "      x='date',\n",
    "      y='price',\n",
    "      color='symbol',\n",
    "      strokeDash='symbol',\n",
    "  )"
   ]
  },
  {
   "cell_type": "markdown",
   "metadata": {
    "id": "m_KKif9r4-kB"
   },
   "source": [
    "# Shell에서 변수 사용"
   ]
  },
  {
   "cell_type": "markdown",
   "metadata": {
    "id": "EaMFZjkK4-kB"
   },
   "source": [
    "## Python변수 → Shell"
   ]
  },
  {
   "cell_type": "code",
   "execution_count": null,
   "metadata": {
    "id": "y_rykFBu4-kB",
    "outputId": "eac1c91f-bc36-4d2a-df73-2bdb617cf610"
   },
   "outputs": [
    {
     "name": "stdout",
     "output_type": "stream",
     "text": [
      "3\n",
      "3\n"
     ]
    }
   ],
   "source": [
    "x=3\n",
    "!echo {x}        # Colab에서 보냈다는 것을 표시할때 좋음. \n",
    "!echo $x         # %%bash 영역과 호환성 좋음."
   ]
  },
  {
   "cell_type": "markdown",
   "metadata": {
    "id": "EUyGTsMK4-kC"
   },
   "source": [
    "## Shell → Python "
   ]
  },
  {
   "cell_type": "code",
   "execution_count": null,
   "metadata": {
    "id": "K4abzVpQ4-kC",
    "outputId": "ef4e56b4-df72-4269-c7ad-98a28cfc725d"
   },
   "outputs": [
    {
     "name": "stdout",
     "output_type": "stream",
     "text": [
      "33\n"
     ]
    }
   ],
   "source": [
    "import os\n",
    "x= !echo 33\n",
    "print(x[0])"
   ]
  },
  {
   "cell_type": "code",
   "execution_count": null,
   "metadata": {
    "id": "bHLWGKOa4-kC",
    "outputId": "5da96df9-76d4-4760-8d7d-d810d3679db8"
   },
   "outputs": [
    {
     "data": {
      "text/plain": [
       "['01.Colab.ipynb',\n",
       " '02.Colab_Example.ipynb',\n",
       " '03.CoLab_Snippet.ipynb',\n",
       " '04.CoLab_Cam.ipynb',\n",
       " '05.Interact.ipynb']"
      ]
     },
     "execution_count": 35,
     "metadata": {},
     "output_type": "execute_result"
    }
   ],
   "source": [
    "import os\n",
    "x2= !ls\n",
    "[i for i in x2]"
   ]
  },
  {
   "cell_type": "markdown",
   "metadata": {
    "id": "RFAIzB9d4-kC"
   },
   "source": [
    "## python → Shell(%%)\n",
    "* 방법1 : script 사용"
   ]
  },
  {
   "cell_type": "code",
   "execution_count": null,
   "metadata": {
    "id": "SLVZqMYr4-kC"
   },
   "outputs": [],
   "source": [
    "x1=3\n",
    "x2=4"
   ]
  },
  {
   "cell_type": "code",
   "execution_count": null,
   "metadata": {
    "id": "kdltURsU4-kD",
    "outputId": "ad2787ce-ad36-4941-f1db-ade7da7aded9"
   },
   "outputs": [
    {
     "name": "stdout",
     "output_type": "stream",
     "text": [
      "3 4\n"
     ]
    }
   ],
   "source": [
    "%%script env x1={x1} x2={x2} bash \n",
    "echo $x1 $x2\n"
   ]
  },
  {
   "cell_type": "markdown",
   "metadata": {
    "id": "njgzJKU54-kD"
   },
   "source": [
    "* 방법2 : os.environ 사용"
   ]
  },
  {
   "cell_type": "code",
   "execution_count": null,
   "metadata": {
    "id": "p14l5atE4-kD"
   },
   "outputs": [],
   "source": [
    "import os\n",
    "os.environ['x'] = 'hi'"
   ]
  },
  {
   "cell_type": "code",
   "execution_count": null,
   "metadata": {
    "id": "z37jYCcq4-kD",
    "outputId": "73962803-6dac-4739-e148-176255b84dfa"
   },
   "outputs": [
    {
     "name": "stdout",
     "output_type": "stream",
     "text": [
      "hi\n"
     ]
    }
   ],
   "source": [
    "%%bash\n",
    "echo $x"
   ]
  },
  {
   "cell_type": "markdown",
   "metadata": {
    "id": "9ZQjOb8O4-kD"
   },
   "source": [
    "## Shell(%%) → Python"
   ]
  },
  {
   "cell_type": "code",
   "execution_count": null,
   "metadata": {
    "id": "TSpVUTsf4-kD"
   },
   "outputs": [],
   "source": [
    "%%bash\n",
    "echo \"hi\">/tmp/hi"
   ]
  },
  {
   "cell_type": "code",
   "execution_count": null,
   "metadata": {
    "id": "ubd0JTZw4-kD",
    "outputId": "dae97fb5-f17d-4a84-dcf2-d0b29651ebbb"
   },
   "outputs": [
    {
     "data": {
      "text/plain": [
       "'hi'"
      ]
     },
     "execution_count": 104,
     "metadata": {},
     "output_type": "execute_result"
    }
   ],
   "source": [
    "x=!cat /tmp/hi\n",
    "x=x[0]\n",
    "x"
   ]
  }
 ],
 "metadata": {
  "colab": {
   "authorship_tag": "ABX9TyM6HrWCDCSv9BE9OTAYm+zQ",
   "collapsed_sections": [],
   "name": "03.CoLab_Advanced.ipynb",
   "provenance": [],
   "toc_visible": true
  },
  "kernelspec": {
   "display_name": "Python 3",
   "language": "python",
   "name": "python3"
  },
  "language_info": {
   "codemirror_mode": {
    "name": "ipython",
    "version": 3
   },
   "file_extension": ".py",
   "mimetype": "text/x-python",
   "name": "python",
   "nbconvert_exporter": "python",
   "pygments_lexer": "ipython3",
   "version": "3.8.9"
  }
 },
 "nbformat": 4,
 "nbformat_minor": 4
}
